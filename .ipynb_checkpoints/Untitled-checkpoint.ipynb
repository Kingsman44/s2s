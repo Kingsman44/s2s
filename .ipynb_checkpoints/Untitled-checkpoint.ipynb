{
 "cells": [
  {
   "cell_type": "code",
   "execution_count": 50,
   "id": "a57bc027",
   "metadata": {},
   "outputs": [],
   "source": [
    "import yt_dlp\n",
    "from youtube_transcript_api import YouTubeTranscriptApi\n",
    "import json\n",
    "from moviepy.editor import AudioFileClip\n",
    "import os"
   ]
  },
  {
   "cell_type": "code",
   "execution_count": 51,
   "id": "8b428f6f",
   "metadata": {},
   "outputs": [],
   "source": [
    "AUDIO_WEBM_PATH=\"audio_webm\"\n",
    "TRANSCRIPT_PATH=\"transcript\"\n",
    "AUDIO_PATH=\"audio\""
   ]
  },
  {
   "cell_type": "code",
   "execution_count": 52,
   "id": "1ad8fec1",
   "metadata": {},
   "outputs": [],
   "source": [
    "with open('dataset.txt', 'r') as file:\n",
    "    yt_ids = [line.strip() for line in file.readlines()]\n",
    "    \n",
    "yt_links = [f\"https://youtu.be/{ids}\" for ids in yt_ids]"
   ]
  },
  {
   "cell_type": "code",
   "execution_count": 53,
   "id": "eab0738d",
   "metadata": {},
   "outputs": [
    {
     "data": {
      "text/plain": [
       "['https://youtu.be/tnTPaLOaHz8', 'https://youtu.be/mwKJfNYwvm8']"
      ]
     },
     "execution_count": 53,
     "metadata": {},
     "output_type": "execute_result"
    }
   ],
   "source": [
    "yt_links"
   ]
  },
  {
   "cell_type": "code",
   "execution_count": 54,
   "id": "eef7dcc4",
   "metadata": {},
   "outputs": [],
   "source": [
    "ydl = yt_dlp.YoutubeDL({\n",
    "    'format': 'ba[language=hi],bestaudio',\n",
    "    'audio-multistreams': True,\n",
    "    'outtmpl': os.path.join(AUDIO_WEBM_PATH,'%(id)s.%(language)s.%(ext)s')\n",
    "})"
   ]
  },
  {
   "cell_type": "code",
   "execution_count": 55,
   "id": "ee88f515",
   "metadata": {},
   "outputs": [
    {
     "name": "stdout",
     "output_type": "stream",
     "text": [
      "[youtube] Extracting URL: https://youtu.be/tnTPaLOaHz8\n",
      "[youtube] tnTPaLOaHz8: Downloading webpage\n",
      "[youtube] tnTPaLOaHz8: Downloading ios player API JSON\n",
      "[youtube] tnTPaLOaHz8: Downloading android player API JSON\n",
      "[youtube] tnTPaLOaHz8: Downloading m3u8 information\n",
      "[info] tnTPaLOaHz8: Downloading 2 format(s): 251-10, 251-13\n",
      "[download] Destination: audio_webm\\tnTPaLOaHz8.hi.webm\n",
      "[download] 100% of   21.17MiB in 00:00:03 at 5.80MiB/s     \n",
      "[download] Destination: audio_webm\\tnTPaLOaHz8.en.webm\n",
      "[download] 100% of   20.69MiB in 00:00:04 at 4.48MiB/s     \n",
      "[youtube] Extracting URL: https://youtu.be/mwKJfNYwvm8\n",
      "[youtube] mwKJfNYwvm8: Downloading webpage\n",
      "[youtube] mwKJfNYwvm8: Downloading ios player API JSON\n",
      "[youtube] mwKJfNYwvm8: Downloading android player API JSON\n",
      "[youtube] mwKJfNYwvm8: Downloading m3u8 information\n",
      "[info] mwKJfNYwvm8: Downloading 2 format(s): 251-6, 251-13\n",
      "[download] Destination: audio_webm\\mwKJfNYwvm8.hi.webm\n",
      "[download] 100% of   10.03MiB in 00:00:01 at 5.05MiB/s     \n",
      "[download] Destination: audio_webm\\mwKJfNYwvm8.en.webm\n",
      "[download] 100% of    9.95MiB in 00:00:01 at 6.93MiB/s   \n"
     ]
    },
    {
     "data": {
      "text/plain": [
       "0"
      ]
     },
     "execution_count": 55,
     "metadata": {},
     "output_type": "execute_result"
    }
   ],
   "source": [
    "ydl.download(yt_links)"
   ]
  },
  {
   "cell_type": "code",
   "execution_count": 56,
   "id": "bd9c2f10",
   "metadata": {},
   "outputs": [],
   "source": [
    "for ids in yt_ids:\n",
    "    hi = YouTubeTranscriptApi.get_transcript(ids, languages=['hi'])\n",
    "    en = YouTubeTranscriptApi.get_transcript(ids, languages=['en'])\n",
    "    with open(os.path.join(TRANSCRIPT_PATH,ids+'.hi.json'), 'w', encoding='utf-8') as json_file:\n",
    "        json.dump(hi, json_file, ensure_ascii=False, indent=2)\n",
    "    with open(os.path.join(TRANSCRIPT_PATH,ids+'.en.json'), 'w', encoding='utf-8') as json_file:\n",
    "        json.dump(en, json_file, ensure_ascii=False, indent=2)"
   ]
  },
  {
   "cell_type": "code",
   "execution_count": 57,
   "id": "9e3da731",
   "metadata": {},
   "outputs": [
    {
     "name": "stdout",
     "output_type": "stream",
     "text": [
      "MoviePy - Writing audio in audio\\tnTPaLOaHz8en.wav\n"
     ]
    },
    {
     "name": "stderr",
     "output_type": "stream",
     "text": [
      "                                                                                                                                    \r"
     ]
    },
    {
     "name": "stdout",
     "output_type": "stream",
     "text": [
      "MoviePy - Done.\n",
      "MoviePy - Writing audio in audio\\tnTPaLOaHz8hi.wav\n"
     ]
    },
    {
     "name": "stderr",
     "output_type": "stream",
     "text": [
      "                                                                                                                                    \r"
     ]
    },
    {
     "name": "stdout",
     "output_type": "stream",
     "text": [
      "MoviePy - Done.\n",
      "MoviePy - Writing audio in audio\\mwKJfNYwvm8en.wav\n"
     ]
    },
    {
     "name": "stderr",
     "output_type": "stream",
     "text": [
      "                                                                                                                                    \r"
     ]
    },
    {
     "name": "stdout",
     "output_type": "stream",
     "text": [
      "MoviePy - Done.\n",
      "MoviePy - Writing audio in audio\\mwKJfNYwvm8hi.wav\n"
     ]
    },
    {
     "name": "stderr",
     "output_type": "stream",
     "text": [
      "                                                                                                                                    "
     ]
    },
    {
     "name": "stdout",
     "output_type": "stream",
     "text": [
      "MoviePy - Done.\n"
     ]
    },
    {
     "name": "stderr",
     "output_type": "stream",
     "text": [
      "\r"
     ]
    }
   ],
   "source": [
    "for ids in yt_ids:\n",
    "    for lang in ['en','hi']:\n",
    "        input_file = os.path.join(AUDIO_WEBM_PATH,ids+'.'+lang+'.webm')\n",
    "        output_file = os.path.join(AUDIO_PATH,ids+'.'+lang+'.wav')\n",
    "        audio_clip = AudioFileClip(input_file)\n",
    "        audio_clip.write_audiofile(output_file, codec='pcm_s16le', fps=44100)"
   ]
  },
  {
   "cell_type": "code",
   "execution_count": null,
   "id": "a3211a65",
   "metadata": {},
   "outputs": [],
   "source": []
  },
  {
   "cell_type": "code",
   "execution_count": null,
   "id": "b0c27484",
   "metadata": {},
   "outputs": [],
   "source": []
  }
 ],
 "metadata": {
  "kernelspec": {
   "display_name": "Python 3 (ipykernel)",
   "language": "python",
   "name": "python3"
  },
  "language_info": {
   "codemirror_mode": {
    "name": "ipython",
    "version": 3
   },
   "file_extension": ".py",
   "mimetype": "text/x-python",
   "name": "python",
   "nbconvert_exporter": "python",
   "pygments_lexer": "ipython3",
   "version": "3.9.16"
  }
 },
 "nbformat": 4,
 "nbformat_minor": 5
}
